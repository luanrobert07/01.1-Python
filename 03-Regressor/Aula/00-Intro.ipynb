{
 "cells": [
  {
   "cell_type": "markdown",
   "metadata": {},
   "source": [
    "# Regressão"
   ]
  },
  {
   "cell_type": "markdown",
   "metadata": {},
   "source": [
    "Imagine que você possua dados sobre diversas casas vendidas, esses dados contém a área do terreno, número de quartos, banheiros etc. \n",
    "\n",
    "E, é claro, o preço das mesmas. E você precisa criar um modelo de Machine Learning que indique o preço de casas que ainda não estão nos seus dados.\n",
    "\n",
    "São exatamente nesses problemas de “descobrir um número” - seja ele um preço, uma medida, uma idade ou qualquer outro tipo de dado numérico - que a regressão é usada."
   ]
  },
  {
   "cell_type": "markdown",
   "metadata": {},
   "source": [
    "Regressão é um tipo de aprendizado supervisionado em aprendizado de máquina que envolve prever uma variável de saída contínua (variável dependente) com base em uma ou mais variáveis de entrada (variáveis independentes)."
   ]
  },
  {
   "cell_type": "markdown",
   "metadata": {},
   "source": [
    "### Tipos de Regressão:"
   ]
  },
  {
   "cell_type": "markdown",
   "metadata": {},
   "source": [
    "\n",
    "- `Regressão Linear`: Assume uma relação linear entre as variáveis de entrada e a saída.\n",
    "\n",
    "\n",
    "- `Regressão Polinomial`: Envolve ajustar uma equação polinomial aos dados.\n",
    "\n",
    "\n",
    "- `Regressão Ridge e Regressão Lasso`: Extensões da regressão linear com regularização para evitar overfitting.\n",
    "\n",
    "\n",
    "- `Regressão de Vetores de Suporte (SVR)`: Utiliza máquinas de vetores de suporte para realizar a regressão.\n",
    "\n",
    "\n",
    "- `Regressão de Árvore de Decisão`: Utiliza árvores de decisão para fazer previsões."
   ]
  },
  {
   "cell_type": "markdown",
   "metadata": {},
   "source": [
    "### Objetivo:\n",
    "\n",
    "O principal objetivo na regressão é encontrar o modelo que melhor se ajusta e representa com precisão a relação entre as variáveis de entrada e saída."
   ]
  },
  {
   "cell_type": "markdown",
   "metadata": {},
   "source": [
    "### Avaliação do Modelo:\n",
    "\n",
    "As métricas de avaliação para modelos de regressão incluem Erro Quadrático Médio (MSE), Erro Médio Absoluto (MAE), \n",
    "\n",
    "Erro Quadrático Médio Raiz (RMSE) e R-quadrado (coeficiente de determinação)."
   ]
  },
  {
   "cell_type": "markdown",
   "metadata": {},
   "source": [
    "### Processo de Treinamento:\n",
    "\n",
    "Durante o treinamento, o algoritmo aprende os parâmetros do modelo de regressão minimizando a diferença entre os valores previstos e reais da saída."
   ]
  },
  {
   "cell_type": "markdown",
   "metadata": {},
   "source": [
    "### Aplicações:\n",
    "\n",
    "A regressão é amplamente utilizada em diversos campos, como finanças para prever preços de ações, economia para modelar relações entre variáveis, saúde para prever resultados de pacientes, entre outros.\n",
    "\n",
    "### Seleção de Características:\n",
    "\n",
    "Identificar características relevantes é crucial na regressão. Técnicas de seleção de características ajudam a escolher as variáveis mais informativas para melhorar a precisão do modelo.\n",
    "\n"
   ]
  }
 ],
 "metadata": {
  "language_info": {
   "name": "python"
  }
 },
 "nbformat": 4,
 "nbformat_minor": 2
}
