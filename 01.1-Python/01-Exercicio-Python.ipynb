{
 "cells": [
  {
   "cell_type": "markdown",
   "metadata": {},
   "source": [
    "### Calculadora Simples:\n",
    "Crie uma calculadora que possa realizar operações básicas como adição, subtração, multiplicação e divisão. Permita que o usuário escolha a operação desejada e forneça os números para realizar o cálculo."
   ]
  },
  {
   "cell_type": "code",
   "execution_count": 4,
   "metadata": {},
   "outputs": [
    {
     "name": "stdout",
     "output_type": "stream",
     "text": [
      "Resultado: 100.0\n"
     ]
    }
   ],
   "source": [
    "def calculadora(x, y, s):\n",
    "    \"\"\"Calculadora\"\"\"\n",
    "    if s == '+':\n",
    "        return x + y\n",
    "    if s == '-':\n",
    "        return x - y\n",
    "    if s == '/' and y != 0:\n",
    "        return x / y\n",
    "    if s == '*':\n",
    "        return x * y\n",
    "    return \"Operação inválida\"\n",
    "\n",
    "def check_calculadora():\n",
    "    x = float(input(\"Entre com um valor: \"))\n",
    "    y = float(input(\"Entre com outro valor: \"))\n",
    "    s = input(\"Entre com um símbolo (+, -, *, /): \")\n",
    "\n",
    "    resultado = calculadora(x, y, s)\n",
    "    print(\"Resultado:\", resultado)\n",
    "\n",
    "# Run the function to check calculator\n",
    "check_calculadora()\n"
   ]
  },
  {
   "cell_type": "markdown",
   "metadata": {},
   "source": [
    "### Verificador de Números Primos:\n",
    "Escreva uma função que verifica se um número fornecido pelo usuário é primo ou não.\n"
   ]
  },
  {
   "cell_type": "code",
   "execution_count": 1,
   "metadata": {},
   "outputs": [
    {
     "name": "stdout",
     "output_type": "stream",
     "text": [
      "10 is not a prime number.\n"
     ]
    }
   ],
   "source": [
    "def is_prime(n):\n",
    "    \"\"\"Check if a number is prime.\"\"\"\n",
    "    if n <= 1:\n",
    "        return False\n",
    "    if n == 2:\n",
    "        return True\n",
    "    if n % 2 == 0:\n",
    "        return False\n",
    "    for i in range(3, int(n**0.5) + 1, 2):\n",
    "        if n % i == 0:\n",
    "            return False\n",
    "    return True\n",
    "\n",
    "def check_primes():\n",
    "    numbers = input(\"Enter numbers separated by spaces: \")\n",
    "    numbers = map(int, numbers.split())\n",
    "\n",
    "    for number in numbers:\n",
    "        if is_prime(number):\n",
    "            print(f\"{number} is a prime number.\")\n",
    "        else:\n",
    "            print(f\"{number} is not a prime number.\")\n",
    "\n",
    "# Run the function to check primes\n",
    "check_primes()\n"
   ]
  },
  {
   "cell_type": "markdown",
   "metadata": {},
   "source": [
    "### Conversor de Temperatura:\n",
    "Crie um programa que converte uma temperatura de Celsius para Fahrenheit e vice-versa, com base na escolha do usuário.\n"
   ]
  },
  {
   "cell_type": "code",
   "execution_count": 7,
   "metadata": {},
   "outputs": [
    {
     "name": "stdout",
     "output_type": "stream",
     "text": [
      "Resultado Celsius para Fahrenheit: 212.0\n",
      "Resultado Fahrenheit para Celsius: 37.77777777777778\n"
     ]
    }
   ],
   "source": [
    "def conversor_Celsius_to_Fahrenheit(Tc):\n",
    "    \"\"\"Conversor\"\"\"\n",
    "    Tf = (Tc * 9/5) + 32\n",
    "    return Tf\n",
    "def conversor_Fahrenheit_to_Celsius(Tf):\n",
    "    \"\"\"COnversor\"\"\"\n",
    "    Tc = (Tf - 32) * 5/9\n",
    "    return Tc\n",
    "\n",
    "def Conversor():\n",
    "    Tc = float(input(\"Entre com um valor em Celsius: \"))\n",
    "    Tf = float(input(\"Entre com um valor em Fahrenheit: \"))\n",
    "\n",
    "    resultadoCelsius = conversor_Celsius_to_Fahrenheit(Tc)\n",
    "    resultadoFahrenheit = conversor_Fahrenheit_to_Celsius(Tf)\n",
    "    print(\"Resultado Celsius para Fahrenheit:\", resultadoCelsius)\n",
    "    print(\"Resultado Fahrenheit para Celsius:\", resultadoFahrenheit)\n",
    "\n",
    "Conversor()\n"
   ]
  },
  {
   "cell_type": "markdown",
   "metadata": {},
   "source": [
    "### Contador de Palavras:\n",
    "Crie uma função que conta o número de palavras em uma frase fornecida pelo usuário.\n"
   ]
  },
  {
   "cell_type": "code",
   "execution_count": 2,
   "metadata": {},
   "outputs": [
    {
     "name": "stdout",
     "output_type": "stream",
     "text": [
      "Número de palavras: 3\n"
     ]
    }
   ],
   "source": [
    "def contar_palavras(frase):\n",
    "    # Remove espaços extras no início e no final da frase\n",
    "    frase_limpa = frase.strip()\n",
    "    \n",
    "    if not frase_limpa:\n",
    "        return 0\n",
    "    \n",
    "    # Divide a frase em palavras usando espaço como delimitador e conta o número de palavras\n",
    "    palavras = frase_limpa.split()\n",
    "    return len(palavras)\n",
    "\n",
    "frase = \"Faaalaaaa Renzoooo, tranquilo?\"\n",
    "print(f\"Número de palavras: {contar_palavras(frase)}\")\n"
   ]
  },
  {
   "cell_type": "markdown",
   "metadata": {},
   "source": [
    "### Tabuada:\n",
    "Escreva um programa que exibe a tabuada de um número fornecido pelo usuário."
   ]
  },
  {
   "cell_type": "code",
   "execution_count": 11,
   "metadata": {},
   "outputs": [
    {
     "name": "stdout",
     "output_type": "stream",
     "text": [
      "10.0 x 0 = 0.0\n",
      "10.0 x 1 = 10.0\n",
      "10.0 x 2 = 20.0\n",
      "10.0 x 3 = 30.0\n",
      "10.0 x 4 = 40.0\n",
      "10.0 x 5 = 50.0\n",
      "10.0 x 6 = 60.0\n",
      "10.0 x 7 = 70.0\n",
      "10.0 x 8 = 80.0\n",
      "10.0 x 9 = 90.0\n",
      "10.0 x 10 = 100.0\n"
     ]
    }
   ],
   "source": [
    "def tabuada(x):\n",
    "    \"\"\"Tabuada\"\"\"\n",
    "    for i in range(0, 11):\n",
    "        print(f\"{x} x {i} = {x * i}\")\n",
    "\n",
    "def mostrar_tabuada():\n",
    "    x = float(input(\"Entre com um valor para a tabuada: \"))\n",
    "    tabuada(x)\n",
    "\n",
    "# Run the function to show the multiplication table\n",
    "mostrar_tabuada()\n"
   ]
  },
  {
   "cell_type": "markdown",
   "metadata": {},
   "source": [
    "### Renomeador de Títulos:\n",
    "Escreva um programa que recebe uma array com nomes de colunas em uma tabela, arrume os nomes das colunas para que todas as palavras tenham a primeira letra maiúscula e substitua espaços por underlines(_).\n"
   ]
  },
  {
   "cell_type": "markdown",
   "metadata": {},
   "source": [
    "column_names = [\"account balance\", \"LoaN duration\", \"CREDIT History\", \n",
    "    \"loan_Purpose\", \"LOAN_Amount\", \"Savings\", \"Years_Employed\", \n",
    "    \"Installment_Rate\", \"Gender and Status\", \"OtheR Debtors_Guarantors\",\n",
    "    \"Year_of_Residence\", \"ProperTy\", \"AGe\", \"InstaLlment Plans\", \"HouSing\", \"ExistiNg_credits\", \"Job\", \"Dependents\", \n",
    "    \"Telephone\", \"Foreign\", \n",
    "    \"Credit_rating\"]"
   ]
  },
  {
   "cell_type": "code",
   "execution_count": 3,
   "metadata": {},
   "outputs": [
    {
     "name": "stdout",
     "output_type": "stream",
     "text": [
      "Account_Balance\n",
      "Loan_Duration\n",
      "Credit_History\n",
      "Loan_Purpose\n",
      "Loan_Amount\n",
      "Savings\n",
      "Years_Employed\n",
      "Installment_Rate\n",
      "Gender_And_Status\n",
      "Other_Debtors_Guarantors\n",
      "Year_Of_Residence\n",
      "Property\n",
      "Age\n",
      "Installment_Plans\n",
      "Housing\n",
      "Existing_Credits\n",
      "Job\n",
      "Dependents\n",
      "Telephone\n",
      "Foreign\n",
      "Credit_Rating\n"
     ]
    }
   ],
   "source": [
    "def formatar_colunas(column_names):\n",
    "    # Função para formatar o nome de uma coluna\n",
    "    def formatar_nome(nome):\n",
    "        # Remove espaços extras e converte para minúsculas\n",
    "        nome_limpo = nome.strip().lower()\n",
    "        # Substitui underscores por espaços para facilitar o tratamento\n",
    "        nome_limpo = nome_limpo.replace('_', ' ')\n",
    "        # Converte a primeira letra de cada palavra para maiúscula e junta as palavras com underscores\n",
    "        nome_formatado = '_'.join(palavra.capitalize() for palavra in nome_limpo.split())\n",
    "        return nome_formatado\n",
    "\n",
    "    # Aplica a formatação em cada nome de coluna\n",
    "    return [formatar_nome(nome) for nome in column_names]\n",
    "\n",
    "# Lista de nomes de colunas\n",
    "column_names = [\n",
    "    \"account balance\", \"LoaN duration\", \"CREDIT History\", \n",
    "    \"loan_Purpose\", \"LOAN_Amount\", \"Savings\", \"Years_Employed\", \n",
    "    \"Installment_Rate\", \"Gender and Status\", \"OtheR Debtors_Guarantors\",\n",
    "    \"Year_of_Residence\", \"ProperTy\", \"AGe\", \"InstaLlment Plans\", \"HouSing\", \n",
    "    \"ExistiNg_credits\", \"Job\", \"Dependents\", \"Telephone\", \"Foreign\", \n",
    "    \"Credit_rating\"\n",
    "]\n",
    "\n",
    "# Formatar a lista de nomes de colunas\n",
    "column_names_formatados = formatar_colunas(column_names)\n",
    "\n",
    "# Exibir o resultado\n",
    "for nome in column_names_formatados:\n",
    "    print(nome)\n"
   ]
  }
 ],
 "metadata": {
  "kernelspec": {
   "display_name": "Python 3",
   "language": "python",
   "name": "python3"
  },
  "language_info": {
   "codemirror_mode": {
    "name": "ipython",
    "version": 3
   },
   "file_extension": ".py",
   "mimetype": "text/x-python",
   "name": "python",
   "nbconvert_exporter": "python",
   "pygments_lexer": "ipython3",
   "version": "3.11.8"
  }
 },
 "nbformat": 4,
 "nbformat_minor": 2
}
